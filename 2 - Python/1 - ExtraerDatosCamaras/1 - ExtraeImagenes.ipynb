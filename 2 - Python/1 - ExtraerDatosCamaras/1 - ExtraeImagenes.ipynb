{
 "cells": [
  {
   "cell_type": "code",
   "execution_count": 12,
   "id": "b79c303a",
   "metadata": {},
   "outputs": [],
   "source": [
    "# -*- coding: utf-8 -*-\n",
    "import requests\n",
    "from os.path import join\n",
    "import os\n",
    "import datetime"
   ]
  },
  {
   "cell_type": "markdown",
   "id": "0944a92e",
   "metadata": {},
   "source": [
    "## Variables Globles"
   ]
  },
  {
   "cell_type": "code",
   "execution_count": 13,
   "id": "a9dd7987",
   "metadata": {},
   "outputs": [],
   "source": [
    "DATOS = join(\".\",\"Datos\")"
   ]
  },
  {
   "cell_type": "markdown",
   "id": "b83e6652",
   "metadata": {},
   "source": [
    "## Funciones Auxiliares"
   ]
  },
  {
   "cell_type": "code",
   "execution_count": 14,
   "id": "7a7a345f",
   "metadata": {},
   "outputs": [],
   "source": [
    "# Extra la hora actual\n",
    "def extraer_hora():\n",
    "    x = datetime.datetime.now()\n",
    "    ano = (\"{0:02}{1:02}{2:02}\".format(x.year,x.month,x.day))\n",
    "    hora = (\"{0:02}{1:02}\".format(x.hour,x.minute))\n",
    "    return ano + \"_\" + hora"
   ]
  },
  {
   "cell_type": "code",
   "execution_count": 15,
   "id": "fc69b272",
   "metadata": {},
   "outputs": [],
   "source": [
    "# Descarga la imagen de la camara X en la carpeta X\n",
    "def descarga_camara(numero, hora):\n",
    "    url = \"http://trafico.sevilla.org/camaras/cam\" + str(numero) + \".jpg\"\n",
    "    page = requests.get(url, stream=True)\n",
    "    if page.status_code == 200:\n",
    "        os.makedirs(join(DATOS,'cam' + str(numero)), exist_ok=True)\n",
    "        local = join(DATOS,\"cam\" + str(numero), hora + \"_cam\" + str(numero) + \".jpg\")\n",
    "        imagen = page.content\n",
    "        with open(local, 'wb') as handler:\n",
    "            for chunk in page.iter_content(chunk_size=None):\n",
    "                handler.write(imagen)\n",
    "        file_size = os.path.getsize(local) \n",
    "        if file_size == 0:\n",
    "            os.remove(local)\n",
    "        return True\n",
    "    else:\n",
    "        return False"
   ]
  },
  {
   "cell_type": "code",
   "execution_count": 16,
   "id": "3791773a",
   "metadata": {},
   "outputs": [],
   "source": [
    "# Se asegura que sólo hay 10 imagenes en la carpeta\n",
    "def limpiaCarpeta(camara):\n",
    "    carpeta = \"./Datos/cam\" + str(camara)\n",
    "    listImagenes = sorted(os.listdir(carpeta)) \n",
    "    imagenes = len(listImagenes)\n",
    "    while imagenes > 10:\n",
    "        os.remove(\"./Datos/cam\" + str(camara) + \"/\" + listImagenes[0])\n",
    "        listImagenes.remove(listImagenes[0])\n",
    "        imagenes = len(listImagenes)"
   ]
  },
  {
   "cell_type": "markdown",
   "id": "236366c9",
   "metadata": {},
   "source": [
    "## Codigo"
   ]
  },
  {
   "cell_type": "code",
   "execution_count": 17,
   "id": "372e99d2",
   "metadata": {},
   "outputs": [],
   "source": [
    "hora = extraer_hora()\n",
    "\n",
    "for i in range(1,67):\n",
    "    # Descarga la imagen en la carpeta\n",
    "    d = descarga_camara(i, hora)\n",
    "    \n",
    "    # Si da cualquier error avisa\n",
    "    if not d:\n",
    "        print(\"Descarga fallida en:\",i)\n",
    "    # Y sino, se asegura que dentro de la carpeta sólo haya 10 imagenes\n",
    "    else:\n",
    "        limpiaCarpeta(i)"
   ]
  }
 ],
 "metadata": {
  "kernelspec": {
   "display_name": "Python 3",
   "language": "python",
   "name": "python3"
  },
  "language_info": {
   "codemirror_mode": {
    "name": "ipython",
    "version": 3
   },
   "file_extension": ".py",
   "mimetype": "text/x-python",
   "name": "python",
   "nbconvert_exporter": "python",
   "pygments_lexer": "ipython3",
   "version": "3.8.8"
  }
 },
 "nbformat": 4,
 "nbformat_minor": 5
}