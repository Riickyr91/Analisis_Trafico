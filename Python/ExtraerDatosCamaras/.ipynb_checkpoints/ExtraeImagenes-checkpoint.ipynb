{
 "cells": [
  {
   "cell_type": "code",
   "execution_count": 34,
   "id": "sudden-anchor",
   "metadata": {},
   "outputs": [],
   "source": [
    "# -*- coding: utf-8 -*-\n",
    "import requests\n",
    "from os.path import join\n",
    "import os\n",
    "import datetime"
   ]
  },
  {
   "cell_type": "markdown",
   "id": "wooden-summer",
   "metadata": {},
   "source": [
    "## Variables Globles"
   ]
  },
  {
   "cell_type": "code",
   "execution_count": 35,
   "id": "painted-payment",
   "metadata": {},
   "outputs": [],
   "source": [
    "DATOS = join(\".\",\"Datos\")"
   ]
  },
  {
   "cell_type": "markdown",
   "id": "differential-award",
   "metadata": {},
   "source": [
    "## Funciones Auxiliares"
   ]
  },
  {
   "cell_type": "code",
   "execution_count": 36,
   "id": "academic-technique",
   "metadata": {},
   "outputs": [],
   "source": [
    "# Extra la hora actual\n",
    "def extraer_hora():\n",
    "    x = datetime.datetime.now()\n",
    "    ano = (\"{0:02}{1:02}{2:02}\".format(x.year,x.month,x.day))\n",
    "    hora = (\"{0:02}{1:02}\".format(x.hour,x.minute))\n",
    "    return ano + \"_\" + hora"
   ]
  },
  {
   "cell_type": "code",
   "execution_count": 37,
   "id": "sharp-fountain",
   "metadata": {},
   "outputs": [],
   "source": [
    "# Descarga la imagen de la camara X en la carpeta X\n",
    "def descarga_camara(numero):\n",
    "    url = \"http://trafico.sevilla.org/camaras/cam\" + str(numero) + \".jpg\"\n",
    "    page = requests.get(url)\n",
    "    if page.status_code == 200:\n",
    "        os.makedirs(join(DATOS,'cam' + str(numero)), exist_ok=True)\n",
    "        local = join(DATOS,\"cam\" + str(numero), extraer_hora() + \"_cam\" + str(numero) + \".jpg\")\n",
    "        imagen = page.content\n",
    "        with open(local, 'wb') as handler:\n",
    "            handler.write(imagen)\n",
    "        return True\n",
    "    else:\n",
    "        return False"
   ]
  },
  {
   "cell_type": "code",
   "execution_count": 38,
   "id": "administrative-parameter",
   "metadata": {},
   "outputs": [],
   "source": [
    "# Se asegura que sólo hay 10 imagenes en la carpeta\n",
    "def limpiaCarpeta(camara):\n",
    "    carpeta = \"./Datos/cam\" + str(camara)\n",
    "    listImagenes = os.listdir(carpeta)\n",
    "    imagenes = len(listImagenes)\n",
    "    while imagenes > 10:\n",
    "        os.remove(\"./Datos/cam\" + str(camara) + \"/\" + listImagenes[0])\n",
    "        listImagenes.remove(listImagenes[0])\n",
    "        imagenes = len(listImagenes)"
   ]
  },
  {
   "cell_type": "markdown",
   "id": "better-wisconsin",
   "metadata": {},
   "source": [
    "## Codigo"
   ]
  },
  {
   "cell_type": "code",
   "execution_count": 42,
   "id": "engaged-southeast",
   "metadata": {},
   "outputs": [
    {
     "name": "stdout",
     "output_type": "stream",
     "text": [
      "Descarga fallida en: 63\n",
      "Descarga fallida en: 67\n",
      "Descarga fallida en: 68\n",
      "Descarga fallida en: 69\n",
      "Descarga fallida en: 70\n",
      "Descarga fallida en: 71\n",
      "Descarga fallida en: 72\n",
      "Descarga fallida en: 73\n",
      "Descarga fallida en: 74\n",
      "Descarga fallida en: 75\n",
      "Descarga fallida en: 76\n",
      "Descarga fallida en: 77\n",
      "Descarga fallida en: 78\n",
      "Descarga fallida en: 79\n",
      "Descarga fallida en: 80\n",
      "Descarga fallida en: 81\n",
      "Descarga fallida en: 82\n",
      "Descarga fallida en: 83\n",
      "Descarga fallida en: 84\n",
      "Descarga fallida en: 85\n",
      "Descarga fallida en: 86\n",
      "Descarga fallida en: 87\n",
      "Descarga fallida en: 88\n",
      "Descarga fallida en: 89\n",
      "Descarga fallida en: 90\n",
      "Descarga fallida en: 91\n",
      "Descarga fallida en: 92\n",
      "Descarga fallida en: 93\n",
      "Descarga fallida en: 94\n",
      "Descarga fallida en: 95\n",
      "Descarga fallida en: 96\n",
      "Descarga fallida en: 97\n",
      "Descarga fallida en: 98\n",
      "Descarga fallida en: 99\n"
     ]
    }
   ],
   "source": [
    "for i in range(1,100):\n",
    "    # Descarga la imagen en la carpeta\n",
    "    d = descarga_camara(i)\n",
    "    \n",
    "    # Si da cualquier error avisa\n",
    "    if not d:\n",
    "        print(\"Descarga fallida en:\",i)\n",
    "    # Y sino, se asegura que dentro de la carpeta sólo haya 10 imagenes\n",
    "    else:\n",
    "        limpiaCarpeta(i)"
   ]
  },
  {
   "cell_type": "code",
   "execution_count": null,
   "id": "middle-validation",
   "metadata": {},
   "outputs": [],
   "source": []
  }
 ],
 "metadata": {
  "kernelspec": {
   "display_name": "Python 3",
   "language": "python",
   "name": "python3"
  },
  "language_info": {
   "codemirror_mode": {
    "name": "ipython",
    "version": 3
   },
   "file_extension": ".py",
   "mimetype": "text/x-python",
   "name": "python",
   "nbconvert_exporter": "python",
   "pygments_lexer": "ipython3",
   "version": "3.8.8"
  }
 },
 "nbformat": 4,
 "nbformat_minor": 5
}
