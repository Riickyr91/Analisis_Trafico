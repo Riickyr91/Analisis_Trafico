{
 "cells": [
  {
   "cell_type": "code",
   "execution_count": 16,
   "id": "recreational-encounter",
   "metadata": {},
   "outputs": [],
   "source": [
    "import numpy as np\n",
    "import scipy as sp\n",
    "import matplotlib.pyplot as plt\n",
    "\n",
    "# Para listar los archivos de una carpeta\n",
    "import os\n",
    "# Para importar archivos .mat\n",
    "import scipy.io\n",
    "# Para String to dateTime\n",
    "import datetime\n",
    "# 2d to 3d\n",
    "from numpy import zeros, newaxis\n",
    "# Para redimensionar\n",
    "from PIL import Image\n",
    "# Para abrir y guardar archivos csv\n",
    "import csv\n",
    "\n",
    "# Para imagenes binarias NO USADO TODAVIA\n",
    "from scipy import ndimage"
   ]
  },
  {
   "cell_type": "markdown",
   "id": "experimental-senior",
   "metadata": {},
   "source": [
    "## Funciones Auxiliares"
   ]
  },
  {
   "cell_type": "code",
   "execution_count": 17,
   "id": "relevant-divide",
   "metadata": {},
   "outputs": [],
   "source": [
    "# Obtiene las plantillas dada la camara por parámetro\n",
    "def getPlantillas(cam):\n",
    "    carpeta = \"./Plantillas/\" + cam\n",
    "    listPlantillas = os.listdir(carpeta)\n",
    "    variable = sp.io.loadmat(carpeta + \"/\" + listPlantillas[0])\n",
    "    variable2 = np.array(variable[\"I_Plantilla\"])\n",
    "    plantillas = variable2[:, :, newaxis]    \n",
    "    for i in range(1,len(listPlantillas)):\n",
    "        pltil = sp.io.loadmat(carpeta + \"/\" + listPlantillas[i])\n",
    "        pltil2 = np.array(pltil[\"I_Plantilla\"])\n",
    "        pltil2 = pltil2[:, :, newaxis]\n",
    "        plantillas = np.concatenate([plantillas, pltil2], axis = 2)\n",
    "    return plantillas"
   ]
  },
  {
   "cell_type": "code",
   "execution_count": 18,
   "id": "verbal-emission",
   "metadata": {},
   "outputs": [],
   "source": [
    "# Visualiza plantillas pasadas por parámetro\n",
    "def visualizaPlantillas(plantillas):\n",
    "    tam = plantillas.shape\n",
    "    a = np.array_split(plantillas,tam[2],axis=2)\n",
    "    for i in range(0,len(a)):\n",
    "        plt.figure()\n",
    "        plt.imshow(a[i][:][:])"
   ]
  },
  {
   "cell_type": "code",
   "execution_count": 19,
   "id": "senior-vanilla",
   "metadata": {},
   "outputs": [],
   "source": [
    "# True si la imagen pasada por parámetro es disponible\n",
    "def camDisponible(iEstudio):\n",
    "    disp = False\n",
    "    noDisponible = Image.open('./No_Disponible/NO_DISPONIBLE.jpg')\n",
    "    tam = noDisponible.size\n",
    "    iEs = Image.fromarray(iEstudio)\n",
    "    iEsRed = iEs.resize(tam)\n",
    "    noArray = np.array(noDisponible)\n",
    "    iEsArray = np.array(iEsRed)\n",
    "    dif = iEsArray - noArray\n",
    "    maximo = np.max(dif)\n",
    "    if maximo == 0:\n",
    "        disponible = False\n",
    "    else:\n",
    "        disponible = True\n",
    "    return disponible"
   ]
  },
  {
   "cell_type": "code",
   "execution_count": 20,
   "id": "complicated-amendment",
   "metadata": {},
   "outputs": [],
   "source": [
    "# Devuleve True si se puede calcular el fondo, en caso contrario, significa que tenemos una imagen NO DISPONIBLE\n",
    "def isFondoDisponible(cam, listImagenes):\n",
    "    disponible = True\n",
    "    encontrado = False\n",
    "    i = 0\n",
    "    while i < (len(listImagenes) - 1) and encontrado == False:\n",
    "        disp = camDisponible(plt.imread(\"./Datos/\"+ cam + \"/\" + listImagenes[i]))\n",
    "        if disp:\n",
    "            i += 1\n",
    "        else:\n",
    "            encontrado = True\n",
    "            disponible = False\n",
    "    return disponible"
   ]
  },
  {
   "cell_type": "code",
   "execution_count": 21,
   "id": "attached-newport",
   "metadata": {},
   "outputs": [],
   "source": [
    "def calculaFondo(cam, listImagenes):\n",
    "    imgsFondo = plt.imread(\"./Datos/\"+ cam + \"/\" + listImagenes[0])\n",
    "    tam = imgsFondo.shape\n",
    "    imgsFondo = imgsFondo[:, :, :, newaxis]    \n",
    "    for i in range(1, len(listImagenes) - 1):\n",
    "        imgF = plt.imread(\"./Datos/\"+ cam + \"/\" + listImagenes[i])\n",
    "        imgF = imgF[:, :, :, newaxis] \n",
    "        imgsFondo = np.concatenate([imgsFondo, imgF], axis = 3)\n",
    "    fondo = np.median(imgsFondo, axis = 3).astype(int)\n",
    "    return fondo"
   ]
  },
  {
   "cell_type": "markdown",
   "id": "daily-illinois",
   "metadata": {},
   "source": [
    "## Manejo de .CSV"
   ]
  },
  {
   "cell_type": "code",
   "execution_count": 22,
   "id": "false-warrior",
   "metadata": {},
   "outputs": [],
   "source": [
    "def crearFichero():\n",
    "    myData = [[\"Cam\", \"Date\", \"Ocp\"]]\n",
    "    myFile = open('Datos.csv', 'w', newline=\"\")\n",
    "    with myFile:\n",
    "        writer = csv.writer(myFile)\n",
    "        writer.writerows(myData)"
   ]
  },
  {
   "cell_type": "code",
   "execution_count": 23,
   "id": "vocational-pasta",
   "metadata": {},
   "outputs": [],
   "source": [
    "def obtieneFichero():\n",
    "    fichero = open(\"./Datos.csv\", newline=\"\")\n",
    "    lector = csv.reader(fichero)\n",
    "    rownum = 0;\n",
    "    datos = [];\n",
    "    for fila in lector:\n",
    "        datos.append(fila)\n",
    "    return datos"
   ]
  },
  {
   "cell_type": "code",
   "execution_count": 24,
   "id": "recent-employment",
   "metadata": {},
   "outputs": [],
   "source": [
    "def guardarFichero(Datos):\n",
    "    myFile = open('./Datos.csv', 'w', newline=\"\")\n",
    "    with myFile:\n",
    "        writer = csv.writer(myFile)\n",
    "        writer.writerows(Datos)"
   ]
  },
  {
   "cell_type": "markdown",
   "id": "circular-portugal",
   "metadata": {},
   "source": [
    "## Codigo"
   ]
  },
  {
   "cell_type": "code",
   "execution_count": 25,
   "id": "forty-chemistry",
   "metadata": {},
   "outputs": [],
   "source": [
    "# CrearFichero\n",
    "# crearFichero()"
   ]
  },
  {
   "cell_type": "code",
   "execution_count": 26,
   "id": "outer-aquatic",
   "metadata": {},
   "outputs": [],
   "source": [
    "# Obtengo los datos del csv\n",
    "#datos = obtieneFichero()\n",
    "\n",
    "#for cont in range(0,65):\n",
    "    # if cont != 63:"
   ]
  },
  {
   "cell_type": "code",
   "execution_count": 27,
   "id": "controversial-banking",
   "metadata": {},
   "outputs": [],
   "source": [
    "cont = 1\n",
    "\n",
    "# Camara actual\n",
    "cam = \"cam\" + str(cont)\n",
    "       \n",
    "# Listo las imagenes que hay en la carpeta\n",
    "carpeta = \"./Datos/\" + cam\n",
    "listImagenes = os.listdir(carpeta)\n",
    "\n",
    "# Numero de imagenes necesarias para la imagen de fondo\n",
    "numImagenes = 9\n",
    "        \n",
    "# Porcentaje de reducción de las imagenes\n",
    "rd = 0.4\n",
    "        \n",
    "# Para cuando salgamos de una imagen NO DISPONIBLE avanzamos numImagenes para este fondo\n",
    "saltaImagenes = False\n",
    "\n",
    "# Extraigo las plantillas de la camX\n",
    "plantillas = getPlantillas(cam)\n",
    "\n",
    "# Visualizo las plantillas\n",
    "# visualizaPlantillas(plantillas)\n",
    "\n",
    "# Dimensiones de las plantillas array\n",
    "size = plantillas.shape\n",
    "\n",
    "# Redimensiono plantillas si es necesario NO PUEDO REDIMENSIONAR LAS PLANTILLAS\n",
    "########################################################\n",
    "\n",
    "# Lo encapsulo en un try-catch por si da error de lectura\n",
    "try:\n",
    "    # Leo la imagen de estudio\n",
    "    iEstudio = plt.imread(carpeta+\"/\"+listImagenes[-1])\n",
    "    # plt.imshow(iEstudio)\n",
    "    \n",
    "    # Covierto fecha y hora en un dateTime\n",
    "    nombre = listImagenes[-1].split(\"_\")\n",
    "    fecha_Hora = nombre[0]+nombre[1]\n",
    "\n",
    "    # Podemos guardarlo como dateTime\n",
    "    #fecha_Hora = datetime.datetime.strptime(nombre[0]+nombre[1], '%Y%m%d%H%M')\n",
    "\n",
    "    # Compruebo si está disponible\n",
    "    disponible = camDisponible(iEstudio)\n",
    "    \n",
    "    if disponible:\n",
    "        fondoDisponible = isFondoDisponible(cam, listImagenes)\n",
    "        if fondoDisponible:           \n",
    "            # Redimensiono las imagenes si es necesario NO PUEDO REDIMENSIONAR LAS IMAGENES ya que las plantillas no se pueden redimensionar\n",
    "            ########################################################\n",
    "            \n",
    "            # Calcula el fondo\n",
    "            fondo = calculaFondo(cam, listImagenes)\n",
    "            # plt.imshow(fondo)\n",
    "            datoInsetar = [cam, str(fecha_Hora), \"cam disponible\"]\n",
    "        else:\n",
    "            print(\"Fondo NO Disponible\")\n",
    "            datoInsetar = [cam, fecha_Hora, \"Fondo NO Disponible\"]\n",
    "    else:\n",
    "        print(\"Imagen No Disponible\")\n",
    "        datoInsetar = [cam, fecha_Hora, \"Cam NO Disponible\"]\n",
    "    \n",
    "except:\n",
    "      print(\"Error de lectura de imagen\")\n",
    "\n",
    "# Inserto los datos nuevos\n",
    "# datos.append(datoInsetar)\n",
    "\n",
    "# Guardo el fichero con los nuevos datos\n",
    "# guardarFichero(datos)"
   ]
  },
  {
   "cell_type": "markdown",
   "id": "consecutive-barbados",
   "metadata": {},
   "source": [
    "### Otros"
   ]
  },
  {
   "cell_type": "code",
   "execution_count": 69,
   "id": "choice-albany",
   "metadata": {},
   "outputs": [],
   "source": [
    "# Redimensiona las plantillas pasadas por parámetros\n",
    "#def redimensionaPlantilla(plantillas):   \n",
    "#if size[1] > 1000:\n",
    "#    x = [];\n",
    "#    for i in range(0,size[0]):\n",
    "#        pProvi = plantillas[i][:][:].copy()\n",
    "#        pProvi.resize((576,720))\n",
    "#        x.append(pProvi)\n",
    "#    plantillas = np.array(x)\n",
    "#        \n",
    "#size = plantillas.shape\n",
    "#print(size)\n",
    "\n",
    "\n",
    "# tam = plantillas.shape\n",
    "#a = np.array_split(plantillas,tam[2],axis=2)\n",
    "#w = np.array(a[0][:][:])\n",
    "#w = np.concatenate([w, w, w], axis = 2)\n",
    "#for i in range(0,len(a)):\n",
    "#im = Image.fromarray(w)\n",
    "#plt.imshow(im)\n",
    "#newsize = (720, 576) \n",
    "#im = im.resize(newsize) \n",
    "#im = np.array(im)\n",
    "#print(im.shape)"
   ]
  },
  {
   "cell_type": "markdown",
   "id": "actual-liberal",
   "metadata": {},
   "source": [
    "### Paginas de ayuda\n",
    "\n",
    "- https://claudiovz.github.io/scipy-lecture-notes-ES/advanced/image_processing/index.html\n",
    "- https://auth0.com/blog/image-processing-in-python-with-pillow/\n",
    "- https://www.youtube.com/playlist?list=PL2PZw96yQChwpPh3TR6rd9SpbPjc4Hh0M\n",
    "- https://numpy.org/doc/stable/reference/generated/numpy.ndarray.resize.html\n",
    "- https://numpy.org/doc/stable/reference/generated/numpy.ndarray.resize.html#numpy.ndarray.resize"
   ]
  },
  {
   "cell_type": "code",
   "execution_count": null,
   "id": "considerable-latest",
   "metadata": {},
   "outputs": [],
   "source": []
  }
 ],
 "metadata": {
  "kernelspec": {
   "display_name": "Python 3",
   "language": "python",
   "name": "python3"
  },
  "language_info": {
   "codemirror_mode": {
    "name": "ipython",
    "version": 3
   },
   "file_extension": ".py",
   "mimetype": "text/x-python",
   "name": "python",
   "nbconvert_exporter": "python",
   "pygments_lexer": "ipython3",
   "version": "3.8.8"
  }
 },
 "nbformat": 4,
 "nbformat_minor": 5
}
